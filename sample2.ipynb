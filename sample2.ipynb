{
  "nbformat": 4,
  "nbformat_minor": 0,
  "metadata": {
    "colab": {
      "provenance": []
    },
    "kernelspec": {
      "name": "python3",
      "display_name": "Python 3"
    },
    "language_info": {
      "name": "python"
    }
  },
  "cells": [
    {
      "cell_type": "markdown",
      "source": [
        "Python Program to Find the Largest Number in a List"
      ],
      "metadata": {
        "id": "oCXYghBomrGI"
      }
    },
    {
      "cell_type": "code",
      "execution_count": null,
      "metadata": {
        "colab": {
          "base_uri": "https://localhost:8080/"
        },
        "id": "mWm9X4j0k21V",
        "outputId": "07019d9b-b4f8-4ae3-a91c-60a03c4c6442"
      },
      "outputs": [
        {
          "output_type": "stream",
          "name": "stdout",
          "text": [
            "enter the number of elements5\n",
            "enter the elements1\n",
            "enter the elements4\n",
            "enter the elements6\n",
            "enter the elements78\n",
            "enter the elements89\n",
            "largest element is  89\n"
          ]
        }
      ],
      "source": [
        "list1=[]\n",
        "n=int(input(\"enter the number of elements\"))\n",
        "for i in range( 1,n+1):\n",
        "  ele=int(input(\"enter the elements\"))\n",
        "  list1.append(ele)\n",
        "list1.sort()\n",
        "print(\"largest element is \",list1[n-1])\n",
        "\n"
      ]
    },
    {
      "cell_type": "markdown",
      "source": [
        "Python Program to Find the Second Largest Number in a List\n"
      ],
      "metadata": {
        "id": "b0CSDD0cmxLf"
      }
    },
    {
      "cell_type": "code",
      "source": [
        "list1=[]\n",
        "n=int(input(\"enter the number of elements\"))\n",
        "for i in range(1,n+1):\n",
        "\n",
        "  ele=int(input('enter the elements'))\n",
        "  list1.append(ele)\n",
        "list1.sort()\n",
        "print(\"secondlargest element is\",list1[n-2])"
      ],
      "metadata": {
        "colab": {
          "base_uri": "https://localhost:8080/"
        },
        "id": "-3NlJMU2m7Mh",
        "outputId": "8444c16b-72d1-40e6-87ec-31bfef4d0201"
      },
      "execution_count": null,
      "outputs": [
        {
          "output_type": "stream",
          "name": "stdout",
          "text": [
            "enter the number of elements4\n",
            "enter the elements23\n",
            "enter the elements56\n",
            "enter the elements78\n",
            "enter the elements89\n",
            "secondlargest element is 78\n"
          ]
        }
      ]
    },
    {
      "cell_type": "markdown",
      "source": [
        "Python Program to Put Even and Odd elements in a List into Two Different Lists."
      ],
      "metadata": {
        "id": "XIYCpzRPoVOg"
      }
    },
    {
      "cell_type": "code",
      "source": [
        "list1=[]\n",
        "list2=[]\n",
        "n=int(input(\"enter the number of elements\"))\n",
        "for i in range(1,n+1):\n",
        "  ele=int(input(\"enter the elements\"))\n",
        "  if ele%2==0 :\n",
        "    list1.append(ele)\n",
        "  else:\n",
        "    list2.append(ele)\n",
        "print(list1)\n",
        "print(list2)\n",
        "\n",
        "\n",
        "\n",
        "\n",
        "\n",
        "\n"
      ],
      "metadata": {
        "colab": {
          "base_uri": "https://localhost:8080/"
        },
        "id": "PKKyxRvIoZf2",
        "outputId": "94b15985-fad8-4876-c798-9fdb0f4ca913"
      },
      "execution_count": null,
      "outputs": [
        {
          "output_type": "stream",
          "name": "stdout",
          "text": [
            "enter the number of elements3\n",
            "enter the elements1\n",
            "enter the elements2\n",
            "enter the elements4\n",
            "[2, 4]\n",
            "[1]\n"
          ]
        }
      ]
    },
    {
      "cell_type": "markdown",
      "source": [
        "Python Program to check whether two lists are same."
      ],
      "metadata": {
        "id": "K8CYVxrbqvMx"
      }
    },
    {
      "cell_type": "code",
      "source": [
        "list1=[]\n",
        "list2=[]\n",
        "\n",
        "n=int(input(\"enter the number of elements\"))\n",
        "for i in range(1,n+1):\n",
        "  ele=int(input(\"enter the elements to first list\"))\n",
        "  list1.append(ele)\n",
        "\n",
        "for i in range(1,n+1):\n",
        "  ele2=int(input(\"enter the elemets to second list\"))\n",
        "  list2.append(ele2)\n",
        "\n",
        "list1.sort()\n",
        "list2.sort()\n",
        "\n",
        "\n",
        "if list1==list2 :\n",
        "  print(\"lists are same\")\n",
        "else :\n",
        "  print(\"lists are different\")\n",
        "\n",
        "\n"
      ],
      "metadata": {
        "colab": {
          "base_uri": "https://localhost:8080/"
        },
        "id": "Yqk-8fD0qy94",
        "outputId": "7e3f6d30-6c5d-4736-97f9-0744a50f9a5a"
      },
      "execution_count": null,
      "outputs": [
        {
          "output_type": "stream",
          "name": "stdout",
          "text": [
            "enter the number of elements4\n",
            "enter the elements to first list1\n",
            "enter the elements to first list2\n",
            "enter the elements to first list3\n",
            "enter the elements to first list4\n",
            "enter the elemets to second list1\n",
            "enter the elemets to second list2\n",
            "enter the elemets to second list3\n",
            "enter the elemets to second list4\n",
            "lists are same\n"
          ]
        }
      ]
    },
    {
      "cell_type": "markdown",
      "source": [
        "Python Program to Find the Union of Lists"
      ],
      "metadata": {
        "id": "WUdvSNyQt6WD"
      }
    },
    {
      "cell_type": "code",
      "source": [
        "list1=[]\n",
        "n=int(input(\"enter the number of elements\"))\n",
        "for i in range(1,n+1) :\n",
        " ele=int(input('enter the elements to first list'))\n",
        " list1.append(ele)\n",
        "\n",
        "\n",
        "list2=[]\n",
        "n1=int(input(\"enter the number of elements\"))\n",
        "for i in range(1,n1+1) :\n",
        " ele1=int(input('enter the elements to second list'))\n",
        " list2.append(ele1)\n",
        "\n",
        "union=list(set().union(list1,list2))\n",
        "\n",
        "print(\"union of 2 lists\",union)\n",
        "\n",
        "\n",
        "\n",
        "\n",
        "\n"
      ],
      "metadata": {
        "colab": {
          "base_uri": "https://localhost:8080/"
        },
        "id": "zQM8SIX_t_79",
        "outputId": "03897225-5ef1-4224-96ab-4d05150c1a13"
      },
      "execution_count": null,
      "outputs": [
        {
          "output_type": "stream",
          "name": "stdout",
          "text": [
            "enter the number of elements3\n",
            "enter the elements to first list10 \n",
            "enter the elements to first list20\n",
            "enter the elements to first list30\n",
            "enter the number of elements4\n",
            "enter the elements to second list1\n",
            "enter the elements to second list2\n",
            "enter the elements to second list3\n",
            "enter the elements to second list4\n",
            "union of 2 lists [1, 2, 3, 4, 10, 20, 30]\n"
          ]
        }
      ]
    },
    {
      "cell_type": "markdown",
      "source": [
        "Python Program to Find the Intersection of Lists."
      ],
      "metadata": {
        "id": "Sf7vhpYswSDV"
      }
    },
    {
      "cell_type": "code",
      "source": [
        "list1=[]\n",
        "n=int(input(\"enter the number of elements\"))\n",
        "for i in range(1,n+1) :\n",
        " ele=int(input('enter the elements to first list'))\n",
        " list1.append(ele)\n",
        "\n",
        "\n",
        "list2=[]\n",
        "n1=int(input(\"enter the number of elements\"))\n",
        "for i in range(1,n1+1) :\n",
        " ele1=int(input('enter the elements to second list'))\n",
        " list2.append(ele1)\n",
        "\n",
        "intersection=set(list1)&set(list2)\n",
        "print(\"intersetion of 2 lists\",intersection)\n"
      ],
      "metadata": {
        "colab": {
          "base_uri": "https://localhost:8080/"
        },
        "id": "t4O7LYJPwcVB",
        "outputId": "07e16f99-2786-40f8-dd40-29b4d537dc81"
      },
      "execution_count": null,
      "outputs": [
        {
          "output_type": "stream",
          "name": "stdout",
          "text": [
            "enter the number of elements 3\n",
            "enter the elements to first list 1\n",
            "enter the elements to first list2\n",
            "enter the elements to first list3\n",
            "enter the number of elements4\n",
            "enter the elements to second list10\n",
            "enter the elements to second list20\n",
            "enter the elements to second list30\n",
            "enter the elements to second list40\n",
            "intersetion of 2 lists set()\n"
          ]
        }
      ]
    },
    {
      "cell_type": "markdown",
      "source": [
        "python program to find intersection and union between 2 lists without repetition."
      ],
      "metadata": {
        "id": "_P2BBOcixzUb"
      }
    },
    {
      "cell_type": "code",
      "source": [
        "list1=[]\n",
        "n=int(input(\"enter the number of elements\"))\n",
        "for i in range(1,n+1) :\n",
        " ele=int(input('enter the elements to first list'))\n",
        " list1.append(ele)\n",
        "\n",
        "\n",
        "list2=[]\n",
        "n1=int(input(\"enter the number of elements\"))\n",
        "for i in range(1,n1+1) :\n",
        " ele1=int(input('enter the elements to second list'))\n",
        " list2.append(ele1)\n",
        "\n",
        "union1=list(set().union(list1,list2))\n",
        "intersection=set(list1)&set(list2)\n",
        "print(union1)\n",
        "print(intersection)\n",
        "20\n",
        "\n"
      ],
      "metadata": {
        "colab": {
          "base_uri": "https://localhost:8080/"
        },
        "id": "60dR77Z2yDVg",
        "outputId": "8716e4e1-6d0a-4f57-9e80-e67baf9450b2"
      },
      "execution_count": null,
      "outputs": [
        {
          "output_type": "stream",
          "name": "stdout",
          "text": [
            "enter the number of elements4\n",
            "enter the elements to first list1\n",
            "enter the elements to first list1\n",
            "enter the elements to first list2\n",
            "enter the elements to first list3\n",
            "enter the number of elements1\n",
            "enter the elements to second list20\n",
            "[1, 2, 3, 20]\n",
            "set()\n"
          ]
        }
      ]
    },
    {
      "cell_type": "markdown",
      "source": [],
      "metadata": {
        "id": "54pUujD006QH"
      }
    },
    {
      "cell_type": "code",
      "source": [],
      "metadata": {
        "id": "Aw5pHytR1WrU"
      },
      "execution_count": null,
      "outputs": []
    },
    {
      "cell_type": "markdown",
      "source": [
        "Python Program to Remove the Duplicate Items from a List\n"
      ],
      "metadata": {
        "id": "llDrg-q81XT6"
      }
    },
    {
      "cell_type": "code",
      "source": [
        "list1=[]\n",
        "n=int(input(\"enter the number of elements\"))\n",
        "for i in range(1,n+1):\n",
        "  ele=int(input(\"enter the elements to first list\"))\n",
        "  list1.append(ele)\n",
        "list2=list(set(list1))\n",
        "print(list2)"
      ],
      "metadata": {
        "colab": {
          "base_uri": "https://localhost:8080/"
        },
        "id": "Be-21gQe1a3R",
        "outputId": "1ec40332-9ff1-4ec8-b224-85debeb51450"
      },
      "execution_count": null,
      "outputs": [
        {
          "output_type": "stream",
          "name": "stdout",
          "text": [
            "enter the number of elements4\n",
            "enter the elements to first list1\n",
            "enter the elements to first list2\n",
            "enter the elements to first list3\n",
            "enter the elements to first list1\n",
            "[1, 2, 3]\n"
          ]
        }
      ]
    },
    {
      "cell_type": "markdown",
      "source": [
        "Python Program to Read a List of Words and Return the Length of the Longest One."
      ],
      "metadata": {
        "id": "TJktMoa291Jk"
      }
    },
    {
      "cell_type": "code",
      "source": [
        "from ast import literal_eval\n",
        "list1=[]\n",
        "n=int(input(\"enter the number of elements\"))\n",
        "for i in range(1,n+1) :\n",
        "  ele=input(\"enter the element\"+str(i+1)+\":\")\n",
        "  list1.append(ele)\n",
        "longest=len(list1[0])\n",
        "temp=list1[0]\n",
        "for i in list1:\n",
        "  if (len(i)>longest):\n",
        "    longest=len(i)\n",
        "    temp=1\n",
        "    print(temp)\n"
      ],
      "metadata": {
        "colab": {
          "base_uri": "https://localhost:8080/"
        },
        "id": "nQzVlcKK93Fr",
        "outputId": "83c3f94a-49f0-46f0-87c1-a37da2c377dd"
      },
      "execution_count": null,
      "outputs": [
        {
          "output_type": "stream",
          "name": "stdout",
          "text": [
            "enter the number of elements2\n",
            "enter the element2:hi\n",
            "enter the element3:hello\n",
            "1\n"
          ]
        }
      ]
    },
    {
      "cell_type": "markdown",
      "source": [
        "Python Program to Add a Key-Value Pair to the Dictionary"
      ],
      "metadata": {
        "id": "cXeemvWOGYDS"
      }
    },
    {
      "cell_type": "code",
      "source": [],
      "metadata": {
        "id": "4sRjusZ3GZWl"
      },
      "execution_count": null,
      "outputs": []
    }
  ]
}