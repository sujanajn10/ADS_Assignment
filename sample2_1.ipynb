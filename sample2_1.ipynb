{
  "nbformat": 4,
  "nbformat_minor": 0,
  "metadata": {
    "colab": {
      "provenance": []
    },
    "kernelspec": {
      "name": "python3",
      "display_name": "Python 3"
    },
    "language_info": {
      "name": "python"
    }
  },
  "cells": [
    {
      "cell_type": "markdown",
      "source": [
        "Python Program to Add a Key-Value Pair to the Dictionary\n"
      ],
      "metadata": {
        "id": "CBxdAM0we9z9"
      }
    },
    {
      "cell_type": "code",
      "source": [
        "key=int(input(\"Enter the key:\"))\n",
        "value=int(input(\"Enter the value for the key to be added:\"))\n",
        "a={}\n",
        "a.update({key:value})\n",
        "print(a)"
      ],
      "metadata": {
        "colab": {
          "base_uri": "https://localhost:8080/"
        },
        "id": "P1wc7sDifFRS",
        "outputId": "e9284b1d-1521-4f6c-9f56-f3572cb04d02"
      },
      "execution_count": null,
      "outputs": [
        {
          "output_type": "stream",
          "name": "stdout",
          "text": [
            "Enter the key:10\n",
            "Enter the value for the key to be added:12\n",
            "{10: 12}\n"
          ]
        }
      ]
    },
    {
      "cell_type": "markdown",
      "source": [
        "Python Program to Concatenate Two Dictionaries Into One\n"
      ],
      "metadata": {
        "id": "Z0lbFeV-ftbx"
      }
    },
    {
      "cell_type": "code",
      "source": [
        "dict1={'x':11,'y':22}\n",
        "dict2={'z':33}\n",
        "dict1.update(dict2)\n",
        "print(\"Concatenated dictionary is:\")\n",
        "print(dict1)"
      ],
      "metadata": {
        "colab": {
          "base_uri": "https://localhost:8080/"
        },
        "id": "MvTD942lf9ur",
        "outputId": "ab5cd20c-366f-4994-e246-d7e7bca7f07f"
      },
      "execution_count": null,
      "outputs": [
        {
          "output_type": "stream",
          "name": "stdout",
          "text": [
            "Concatenated dictionary is:\n",
            "{'x': 11, 'y': 22, 'z': 33}\n"
          ]
        }
      ]
    },
    {
      "cell_type": "markdown",
      "source": [
        "Python Program to Check if a Given Key Exists in a Dictionary or Not"
      ],
      "metadata": {
        "id": "0luai0rxgTnT"
      }
    },
    {
      "cell_type": "code",
      "source": [
        "dict1={'x':11,'y':22,'z':33}\n",
        "key=input(\"Enter key:\")\n",
        "if key in dict1.keys():\n",
        "      print(\"Key is present\")\n",
        "      print(dict1[key])\n",
        "else:\n",
        "      print(\"Key isn't present!\")"
      ],
      "metadata": {
        "colab": {
          "base_uri": "https://localhost:8080/"
        },
        "id": "vl8KrHnthDLi",
        "outputId": "891a0ea6-c6df-47cb-8491-23796ae272e5"
      },
      "execution_count": null,
      "outputs": [
        {
          "output_type": "stream",
          "name": "stdout",
          "text": [
            "Enter key:x\n",
            "Key is present\n",
            "11\n"
          ]
        }
      ]
    },
    {
      "cell_type": "markdown",
      "source": [
        "Python Program to Generate a Dictionary that Contains Numbers (between 1 and n) in the Form (x,x*x)."
      ],
      "metadata": {
        "id": "yFIoMxTTixsD"
      }
    },
    {
      "cell_type": "code",
      "source": [
        "n=int(input(\"Enter a number:\"))\n",
        "dict1={x:x*x for x in range(1,n+1)}\n",
        "print(dict1)"
      ],
      "metadata": {
        "colab": {
          "base_uri": "https://localhost:8080/"
        },
        "id": "3Re08CRhhryV",
        "outputId": "5e01efa3-2ed0-47d2-938c-e9d559950dcc"
      },
      "execution_count": null,
      "outputs": [
        {
          "output_type": "stream",
          "name": "stdout",
          "text": [
            "Enter a number:3\n",
            "{1: 1, 2: 4, 3: 9}\n"
          ]
        }
      ]
    },
    {
      "cell_type": "markdown",
      "source": [
        "Python Program to Sum All the Items in a Dictionary"
      ],
      "metadata": {
        "id": "RcUh-Q17i3cy"
      }
    },
    {
      "cell_type": "code",
      "source": [
        "dict1={'x':14,'y':453,'z':459}\n",
        "print(\"Total sum of values in the dictionary:\")\n",
        "print(sum(dict1.values()))"
      ],
      "metadata": {
        "colab": {
          "base_uri": "https://localhost:8080/"
        },
        "id": "Oer-1p3vi6sw",
        "outputId": "6304ad49-d0be-4086-8d96-c8b97b991fcd"
      },
      "execution_count": null,
      "outputs": [
        {
          "output_type": "stream",
          "name": "stdout",
          "text": [
            "Total sum of values in the dictionary:\n",
            "926\n"
          ]
        }
      ]
    },
    {
      "cell_type": "markdown",
      "source": [
        "Python Program to Multiply All the Items in a Dictionary"
      ],
      "metadata": {
        "id": "RZkblx-6jn3h"
      }
    },
    {
      "cell_type": "code",
      "source": [
        "dict1={'x':102,'y':103,'z':569}\n",
        "count=1\n",
        "for i in dict1:\n",
        "    count=count*dict1[i]\n",
        "print(count)"
      ],
      "metadata": {
        "colab": {
          "base_uri": "https://localhost:8080/"
        },
        "id": "3_S0IqqFjsHT",
        "outputId": "732c5437-2d15-45c2-b536-2358eb3a4c5f"
      },
      "execution_count": null,
      "outputs": [
        {
          "output_type": "stream",
          "name": "stdout",
          "text": [
            "5977914\n"
          ]
        }
      ]
    },
    {
      "cell_type": "markdown",
      "source": [
        "Python Program to Remove the Given Key from a Dictionary"
      ],
      "metadata": {
        "id": "WEBpiI1QkSYM"
      }
    },
    {
      "cell_type": "code",
      "source": [
        "d = {'x':11,'y':22,'z':33,'d':44}\n",
        "key=input(\"Enter the key to delete:\")\n",
        "if key in d:\n",
        "    del d[key]\n",
        "else:\n",
        "    print(\"Key not found!\")\n",
        "    exit(0)\n",
        "print(\"new dictionary\")\n",
        "print(d)"
      ],
      "metadata": {
        "colab": {
          "base_uri": "https://localhost:8080/"
        },
        "id": "RvVc9f_BkXDF",
        "outputId": "3a9060f8-f700-4b9c-d3ee-926d64aa3bdf"
      },
      "execution_count": null,
      "outputs": [
        {
          "output_type": "stream",
          "name": "stdout",
          "text": [
            "Enter the key to delete:y\n",
            "new dictionary\n",
            "{'x': 11, 'z': 33, 'd': 44}\n"
          ]
        }
      ]
    },
    {
      "cell_type": "markdown",
      "source": [
        "Write a function is_empty(my_dict) that takes a dictionary my_dict and returns True if my_dict is empty and False otherwise"
      ],
      "metadata": {
        "id": "KhqqoMkRlA9c"
      }
    },
    {
      "cell_type": "code",
      "source": [
        "def is_empty(my_dict):\n",
        "    return len(my_dict) == 0\n",
        "\n",
        "my_dict = {}\n",
        "print(is_empty(my_dict))\n",
        "\n",
        "my_dict = {'key': 'value'}\n",
        "print(is_empty(my_dict))\n",
        "\n"
      ],
      "metadata": {
        "colab": {
          "base_uri": "https://localhost:8080/"
        },
        "id": "-jIbTU0llEVQ",
        "outputId": "ee109081-7aa2-4cb0-c8d6-0790f2134121"
      },
      "execution_count": null,
      "outputs": [
        {
          "output_type": "stream",
          "name": "stdout",
          "text": [
            "True\n",
            "False\n"
          ]
        }
      ]
    },
    {
      "cell_type": "code",
      "source": [
        "def is_empty(my_dict):\n",
        "    return len(my_dict) == 0\n",
        "\n",
        "# Example usage\n",
        "my_dict1 = {}\n",
        "my_dict2 = {'a': 1, 'b': 2}\n",
        "\n",
        "print(is_empty(my_dict1))  # Output: True\n",
        "print(is_empty(my_dict2))  # Output: False\n"
      ],
      "metadata": {
        "colab": {
          "base_uri": "https://localhost:8080/"
        },
        "id": "sLffUv-gmCL0",
        "outputId": "1018e588-1c62-4ac3-8782-e3901c70ec10"
      },
      "execution_count": null,
      "outputs": [
        {
          "output_type": "stream",
          "name": "stdout",
          "text": [
            "True\n",
            "False\n"
          ]
        }
      ]
    },
    {
      "cell_type": "code",
      "source": [
        "def is_empty(my_dict) :\n",
        "  my_dict = {}\n",
        "Length_MyDict = len(my_dict)\n",
        "if Length_MyDict == 0:\n",
        "    print (\"Dictionary is empty\")\n",
        "else:\n",
        "    print (\"Dictionary is not empty\")\n",
        "\n",
        "\n",
        "\n",
        "is_empty(my_dict)"
      ],
      "metadata": {
        "colab": {
          "base_uri": "https://localhost:8080/"
        },
        "id": "eNFilxoIncCt",
        "outputId": "4c0b8039-036d-40b0-a7be-16bbbe06695b"
      },
      "execution_count": null,
      "outputs": [
        {
          "output_type": "stream",
          "name": "stdout",
          "text": [
            "Dictionary is not empty\n"
          ]
        }
      ]
    },
    {
      "cell_type": "markdown",
      "source": [
        "A simple substitution cipher is an encryption scheme where each letter in an alphabet to replaced by a different letter in the same alphabet with the restriction that each letter's replacement is unique. The template for this question contains an example of a substitution cipher represented a dictionary CIPHER_DICTIONARY. Your task is to write a function encrypt(phrase,cipher_dict) that takes a string phrase and a dictionary cipher_dict and returns the results of replacing each character in phrase by its corresponding value in cipher_dict.\n",
        "CIPHER_DICT = {'e': 'u', 'b': 's', 'k': 'x', 'u': 'q', 'y': 'c', 'm': 'w', 'o': 'y', 'g': 'f', 'a': 'm', 'x': 'j', 'l': 'n', 's': 'o', 'r': 'g', 'i': 'i', 'j': 'z', 'c': 'k', 'f': 'p', ' ': 'b', 'q': 'r', 'z': 'e', 'p': 'v', 'v': 'l', 'h': 'h', 'd': 'd', 'n': 'a', 't': ' ', 'w': 't'}"
      ],
      "metadata": {
        "id": "0s9sHoVbtvgD"
      }
    },
    {
      "cell_type": "code",
      "source": [
        "def encrypt(phrase, cipher_dict):\n",
        "    encrypted_phrase = \"\"\n",
        "\n",
        "    for char in phrase:\n",
        "        if char in cipher_dict:\n",
        "            encrypted_phrase += cipher_dict[char]\n",
        "        else:\n",
        "            encrypted_phrase += char\n",
        "\n",
        "    return encrypted_phrase\n",
        "\n",
        "CIPHER_DICT = {'e': 'u', 'b': 's', 'k': 'x', 'u': 'q', 'y': 'c', 'm': 'w', 'o': 'y', 'g': 'f', 'a': 'm', 'x': 'j', 'l': 'n', 's': 'o', 'r': 'g', 'i': 'i', 'j': 'z', 'c': 'k', 'f': 'p', ' ': 'b', 'q': 'r', 'z': 'e', 'p': 'v', 'v': 'l', 'h': 'h', 'd': 'd', 'n': 'a', 't': ' ', 'w': 't'}\n",
        "\n",
        "phrase = \"good morning\"\n",
        "encrypted_result = encrypt(phrase, CIPHER_DICT)\n",
        "print(encrypted_result)\n"
      ],
      "metadata": {
        "colab": {
          "base_uri": "https://localhost:8080/"
        },
        "id": "meb8LGiNtqQL",
        "outputId": "7a5c333c-ee94-46d3-c1d4-2a09a39c1caf"
      },
      "execution_count": null,
      "outputs": [
        {
          "output_type": "stream",
          "name": "stdout",
          "text": [
            "fyydbwygaiaf\n"
          ]
        }
      ]
    },
    {
      "cell_type": "markdown",
      "source": [
        "Write a function make_dict(key_value_list) that takes a list of tuples key_value_list where each tuple is of the form (key, value) and returns a dictionary with these keys and corresponding values."
      ],
      "metadata": {
        "id": "zvWfGwREpvfY"
      }
    },
    {
      "cell_type": "code",
      "source": [
        "def make_dict(key_value_list):\n",
        "    result_dict = {}\n",
        "    for key, value in key_value_list:\n",
        "        result_dict[key] = value\n",
        "    return result_dict\n",
        "\n",
        "key_value_list = [(\"x\", 10), (\"y\", 20), (\"z\", 3)]\n",
        "result = make_dict(key_value_list)\n",
        "print(result)\n"
      ],
      "metadata": {
        "colab": {
          "base_uri": "https://localhost:8080/"
        },
        "id": "H3BupzHJqMwF",
        "outputId": "5cce98fd-b5f4-43a3-a37a-b3d1fe65eff1"
      },
      "execution_count": null,
      "outputs": [
        {
          "output_type": "stream",
          "name": "stdout",
          "text": [
            "{'x': 10, 'y': 20, 'z': 3}\n"
          ]
        }
      ]
    },
    {
      "cell_type": "markdown",
      "source": [
        "Write a function make_cipher_dict(alphabet) that takes a string of unique characters and returns a randomly-generated cipher dictionary for the characters in alphabet . You should use\n",
        "the shuffle() method in the random module to ensure that your returned cipher dictionary is random."
      ],
      "metadata": {
        "id": "0F_JwJD4r9kG"
      }
    },
    {
      "cell_type": "code",
      "source": [
        "import random\n",
        "\n",
        "def make_cipher_dict(alphabet):\n",
        "    if len(set(alphabet)) != len(alphabet):\n",
        "        raise ValueError(\"Alphabet must contain unique characters\")\n",
        "\n",
        "    shuffled_alphabet = list(alphabet)\n",
        "    random.shuffle(shuffled_alphabet)\n",
        "\n",
        "    cipher_dict = {alphabet[i]: shuffled_alphabet[i] for i in range(len(alphabet))}\n",
        "\n",
        "    return cipher_dict\n",
        "\n",
        "alphabet = \"abcdefghijklmnopqrstuvwxyz\"\n",
        "cipher_dict = make_cipher_dict(alphabet)\n",
        "print(cipher_dict)\n"
      ],
      "metadata": {
        "colab": {
          "base_uri": "https://localhost:8080/"
        },
        "id": "Yq2foX2rsGq4",
        "outputId": "56cfba47-4bf6-42e7-e687-2f6108e0799b"
      },
      "execution_count": null,
      "outputs": [
        {
          "output_type": "stream",
          "name": "stdout",
          "text": [
            "{'a': 'z', 'b': 'b', 'c': 'c', 'd': 'o', 'e': 'x', 'f': 'n', 'g': 's', 'h': 'd', 'i': 't', 'j': 'm', 'k': 'l', 'l': 'w', 'm': 'j', 'n': 'v', 'o': 'g', 'p': 'i', 'q': 'f', 'r': 'e', 's': 'u', 't': 'h', 'u': 'q', 'v': 'a', 'w': 'y', 'x': 'k', 'y': 'r', 'z': 'p'}\n"
          ]
        }
      ]
    },
    {
      "cell_type": "markdown",
      "source": [
        "Write a python code to generate grade using dictionary. Dictionary should have student names as keys (assuming names are unique) and subject_name and mark as value. There are 5 subjects for each student. Marks should be converted to grades (90 – 100 A+, 80-89 A etc)."
      ],
      "metadata": {
        "id": "MKzWKBUNsO7D"
      }
    },
    {
      "cell_type": "code",
      "source": [
        "def calculate_grade(mark):\n",
        "    if 90 <= mark <= 100:\n",
        "        return 'A+'\n",
        "    elif 80 <= mark < 90:\n",
        "        return 'A'\n",
        "    elif 70 <= mark < 80:\n",
        "        return 'B'\n",
        "    elif 60 <= mark < 70:\n",
        "        return 'C'\n",
        "    elif 50 <= mark < 60:\n",
        "        return 'D'\n",
        "    else:\n",
        "        return 'F'\n",
        "\n",
        "\n",
        "student_data = {\n",
        "    'Suman': {'Math': 85, 'Science': 92, 'English': 78, 'History': 70, 'Art': 95},\n",
        "    'Sharat': {'Math': 72, 'Science': 88, 'English': 64, 'History': 50, 'Art': 76},\n",
        "    'Sarah': {'Math': 95, 'Science': 78, 'English': 86, 'History': 91, 'Art': 82}\n",
        "}\n",
        "\n",
        "\n",
        "for student, subjects in student_data.items():\n",
        "    for subject, mark in subjects.items():\n",
        "        grade = calculate_grade(mark)\n",
        "        subjects[subject] = grade\n",
        "\n",
        "for student, subjects in student_data.items():\n",
        "    print(f\"{student}'s grades:\")\n",
        "    for subject, grade in subjects.items():\n",
        "        print(f\"{subject}: {grade}\")\n",
        "    print()\n"
      ],
      "metadata": {
        "colab": {
          "base_uri": "https://localhost:8080/"
        },
        "id": "PbSwuY7ds9zM",
        "outputId": "767f6b4a-4fae-43ca-da32-f4a6eda3aff9"
      },
      "execution_count": null,
      "outputs": [
        {
          "output_type": "stream",
          "name": "stdout",
          "text": [
            "Suman's grades:\n",
            "Math: A\n",
            "Science: A+\n",
            "English: B\n",
            "History: B\n",
            "Art: A+\n",
            "\n",
            "Sharat's grades:\n",
            "Math: B\n",
            "Science: A\n",
            "English: C\n",
            "History: D\n",
            "Art: B\n",
            "\n",
            "Sarah's grades:\n",
            "Math: A+\n",
            "Science: B\n",
            "English: A\n",
            "History: A+\n",
            "Art: A\n",
            "\n"
          ]
        }
      ]
    }
  ]
}