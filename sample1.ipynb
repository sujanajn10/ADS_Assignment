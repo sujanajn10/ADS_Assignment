{
  "nbformat": 4,
  "nbformat_minor": 0,
  "metadata": {
    "colab": {
      "provenance": []
    },
    "kernelspec": {
      "name": "python3",
      "display_name": "Python 3"
    },
    "language_info": {
      "name": "python"
    }
  },
  "cells": [
    {
      "cell_type": "markdown",
      "source": [
        "Python Program to Exchange the Values of Two Numbers Without Using a Temporary Variable\n"
      ],
      "metadata": {
        "id": "2peecrk0H62Q"
      }
    },
    {
      "cell_type": "code",
      "source": [
        "x=int(input(\"Enter first number: \"))\n",
        "y=int(input(\"Enter second number: \"))\n",
        "x=x+y\n",
        "y=x-y\n",
        "x=x-y\n",
        "print(\"a is:\",x,\" b is:\",y)"
      ],
      "metadata": {
        "colab": {
          "base_uri": "https://localhost:8080/"
        },
        "id": "s1Trw-LPIA3P",
        "outputId": "9f20ed65-fa82-4720-90e2-3754be47ecf7"
      },
      "execution_count": null,
      "outputs": [
        {
          "output_type": "stream",
          "name": "stdout",
          "text": [
            "Enter first number: 1\n",
            "Enter second number: 3\n",
            "a is: 3  b is: 1\n"
          ]
        }
      ]
    },
    {
      "cell_type": "markdown",
      "source": [
        "Python Program to Check Whether a Number is Positive or Negative."
      ],
      "metadata": {
        "id": "6qLO1bGQIkPo"
      }
    },
    {
      "cell_type": "code",
      "source": [
        "\n",
        "num=int(input(\"Enter number: \"))\n",
        "if(num>0):\n",
        "    print(\"Number is positive\")\n",
        "else:\n",
        "    print(\"Number is negative\")"
      ],
      "metadata": {
        "colab": {
          "base_uri": "https://localhost:8080/"
        },
        "id": "Ak8dIBG1IpIn",
        "outputId": "7b095461-bd4e-4a2c-8f16-e2ba86ee4e51"
      },
      "execution_count": null,
      "outputs": [
        {
          "output_type": "stream",
          "name": "stdout",
          "text": [
            "Enter number: -3\n",
            "Number is negative\n"
          ]
        }
      ]
    },
    {
      "cell_type": "markdown",
      "source": [],
      "metadata": {
        "id": "OGw1PPwEKKTH"
      }
    },
    {
      "cell_type": "markdown",
      "source": [
        "Python Program to Print all Numbers in a Range Divisible by a Given Number"
      ],
      "metadata": {
        "id": "8Mzbhj8aI2Y9"
      }
    },
    {
      "cell_type": "code",
      "source": [
        "\n",
        "l=int(input(\"Enter lower  limit:\"))\n",
        "ur=int(input(\"Enter upper  limit:\"))\n",
        "n=int(input(\"Enter the number to be divided by:\"))\n",
        "for i in range(l,ur+1):\n",
        "    if(i%n==0):\n",
        "        print(i)"
      ],
      "metadata": {
        "colab": {
          "base_uri": "https://localhost:8080/"
        },
        "id": "NbEvvGIIJQF_",
        "outputId": "568d6fc0-58f6-4aec-c4a9-d9e4d6b5b0c3"
      },
      "execution_count": null,
      "outputs": [
        {
          "output_type": "stream",
          "name": "stdout",
          "text": [
            "Enter lower  limit:1\n",
            "Enter upper  limit:20\n",
            "Enter the number to be divided by:4\n",
            "4\n",
            "8\n",
            "12\n",
            "16\n",
            "20\n"
          ]
        }
      ]
    },
    {
      "cell_type": "markdown",
      "source": [
        "Python Program to Read Two Numbers and Print Their Quotient and Remainder"
      ],
      "metadata": {
        "id": "PnS-CxYcJniv"
      }
    },
    {
      "cell_type": "code",
      "source": [
        "\n",
        "x=int(input(\"Enter the first number: \"))\n",
        "y=int(input(\"Enter the second number: \"))\n",
        "quotient=x//y\n",
        "remainder=x%y\n",
        "print(\"Quotient is:\",quotient)\n",
        "print(\"Remainder is:\",remainder)"
      ],
      "metadata": {
        "colab": {
          "base_uri": "https://localhost:8080/"
        },
        "id": "9wp3pAjqJsso",
        "outputId": "d7da6192-113a-4b3f-f104-4ce98186058d"
      },
      "execution_count": null,
      "outputs": [
        {
          "output_type": "stream",
          "name": "stdout",
          "text": [
            "Enter the first number: 20\n",
            "Enter the second number: 5\n",
            "Quotient is: 4\n",
            "Remainder is: 0\n"
          ]
        }
      ]
    },
    {
      "cell_type": "markdown",
      "source": [
        "Python Program to Print Odd Numbers Within a Given Range."
      ],
      "metadata": {
        "id": "qHnMeZzWKQMf"
      }
    },
    {
      "cell_type": "code",
      "source": [
        "l=int(input(\"Enter the lower limit:\"))\n",
        "ur=int(input(\"Enter the upper limit:\"))\n",
        "for i in range(l,ur+1):\n",
        "    if(i%2!=0):\n",
        "        print(i)"
      ],
      "metadata": {
        "colab": {
          "base_uri": "https://localhost:8080/"
        },
        "id": "z3pa83-3KRIJ",
        "outputId": "07f9a955-05f3-4151-9be6-ba3ca34aa957"
      },
      "execution_count": null,
      "outputs": [
        {
          "output_type": "stream",
          "name": "stdout",
          "text": [
            "Enter the lower limit:1\n",
            "Enter the upper limit:4\n",
            "1\n",
            "3\n"
          ]
        }
      ]
    },
    {
      "cell_type": "markdown",
      "source": [
        "Python Program to Find the Sum of Digits in a Number."
      ],
      "metadata": {
        "id": "P3Gdm48IKlUB"
      }
    },
    {
      "cell_type": "code",
      "source": [
        "num=int(input(\"Enter a number:\"))\n",
        "c=0\n",
        "while(num>0):\n",
        "    dig=num%10\n",
        "    c=c+dig\n",
        "    num=num//10\n",
        "print(\"The total sum of digits is:\",c)"
      ],
      "metadata": {
        "colab": {
          "base_uri": "https://localhost:8080/"
        },
        "id": "ruhO3WnqKo9z",
        "outputId": "fdce4380-7741-4b61-f23a-65b49994a75f"
      },
      "execution_count": null,
      "outputs": [
        {
          "output_type": "stream",
          "name": "stdout",
          "text": [
            "Enter a number:13\n",
            "The total sum of digits is: 4\n"
          ]
        }
      ]
    },
    {
      "cell_type": "markdown",
      "source": [
        "Python Program to Find the Smallest Divisor of an Integer"
      ],
      "metadata": {
        "id": "eDuH22kTLA4g"
      }
    },
    {
      "cell_type": "code",
      "source": [
        "import typing\n",
        "num=int(input(\"Enter an integer:\"))\n",
        "t=[]\n",
        "for i in range(2,num+1):\n",
        "    if(num%i==0):\n",
        "        t.append(i)\n",
        "print(\"Smallest divisor is:\",t[0])"
      ],
      "metadata": {
        "colab": {
          "base_uri": "https://localhost:8080/"
        },
        "id": "1izBykGmLFxI",
        "outputId": "e6f02127-92c6-453b-c429-ca3bdefa1d5e"
      },
      "execution_count": null,
      "outputs": [
        {
          "output_type": "stream",
          "name": "stdout",
          "text": [
            "Enter an integer:4\n",
            "Smallest divisor is: 2\n"
          ]
        }
      ]
    },
    {
      "cell_type": "markdown",
      "source": [
        "Python Program to Read a number n and Compute n+nn+nnn."
      ],
      "metadata": {
        "id": "URj9UZoiLf6w"
      }
    },
    {
      "cell_type": "code",
      "source": [
        "\n",
        "n=int(input(\"Enter a number \"))\n",
        "c=str(n)\n",
        "t1=c+c\n",
        "t2=c+c+c\n",
        "comp=n+int(t1)+int(t2)\n",
        "print(\"The value is:\",comp)"
      ],
      "metadata": {
        "colab": {
          "base_uri": "https://localhost:8080/"
        },
        "id": "Ooh6-zMuLubf",
        "outputId": "5d219d10-4b73-467e-ef7f-9d070f505d9f"
      },
      "execution_count": null,
      "outputs": [
        {
          "output_type": "stream",
          "name": "stdout",
          "text": [
            "Enter a number 2\n",
            "The value is: 246\n"
          ]
        }
      ]
    },
    {
      "cell_type": "markdown",
      "source": [
        "Python Program to Reverse a Given Number."
      ],
      "metadata": {
        "id": "dTIs84I9MHAX"
      }
    },
    {
      "cell_type": "code",
      "source": [
        "n=int(input(\"Enter number: \"))\n",
        "rev=0\n",
        "while(n>0):\n",
        "    d=n%10\n",
        "    rev=rev*10+d\n",
        "    n=n//10\n",
        "print(\"Reversed number:\",rev)"
      ],
      "metadata": {
        "colab": {
          "base_uri": "https://localhost:8080/"
        },
        "id": "Uso66ZZYML3N",
        "outputId": "f5b67948-2223-4290-d014-073c0e693985"
      },
      "execution_count": null,
      "outputs": [
        {
          "output_type": "stream",
          "name": "stdout",
          "text": [
            "Enter number: 78\n",
            "Reversed number: 87\n"
          ]
        }
      ]
    },
    {
      "cell_type": "markdown",
      "source": [
        "Python Program to Calculate the Average of Numbers in a Given List"
      ],
      "metadata": {
        "id": "h3VTTu6VMp4A"
      }
    },
    {
      "cell_type": "code",
      "source": [
        "n=int(input(\"Enter the number of elements \"))\n",
        "a=[]\n",
        "for i in range(0,n):\n",
        "    c=int(input(\"Enter element: \"))\n",
        "    a.append(c)\n",
        "avg=sum(a)/n\n",
        "print(\"Average of elements in the list\",round(avg,2))\n"
      ],
      "metadata": {
        "colab": {
          "base_uri": "https://localhost:8080/"
        },
        "id": "lCgj1KEKOAze",
        "outputId": "117a3843-64a4-4e39-d147-74f6a5e95aeb"
      },
      "execution_count": null,
      "outputs": [
        {
          "output_type": "stream",
          "name": "stdout",
          "text": [
            "Enter the number of elements 3\n",
            "Enter element: 2\n",
            "Enter element: 4\n",
            "Enter element: 5\n",
            "Average of elements in the list 3.67\n"
          ]
        }
      ]
    },
    {
      "cell_type": "markdown",
      "source": [
        "Python Program to Count the Number of Digits in a Number."
      ],
      "metadata": {
        "id": "kDpBwrS4Onos"
      }
    },
    {
      "cell_type": "code",
      "source": [
        "n=int(input(\"Enter number:\"))\n",
        "c=0\n",
        "while(n>0):\n",
        "    c=c+1\n",
        "    n=n//10\n",
        "print(\"The number of digits in the number are:\",c)"
      ],
      "metadata": {
        "colab": {
          "base_uri": "https://localhost:8080/"
        },
        "id": "TKdbSMVmOs3D",
        "outputId": "ddc167f2-a738-44f9-f960-b0361bde124f"
      },
      "execution_count": null,
      "outputs": [
        {
          "output_type": "stream",
          "name": "stdout",
          "text": [
            "Enter number:56\n",
            "The number of digits in the number are: 2\n"
          ]
        }
      ]
    },
    {
      "cell_type": "markdown",
      "source": [
        "Python Program to Check if a Number is a Palindrome"
      ],
      "metadata": {
        "id": "AstyPZJmPMQz"
      }
    },
    {
      "cell_type": "code",
      "source": [
        "n=int(input(\"Enter number:\"))\n",
        "t=n\n",
        "rev=0\n",
        "while(n>0):\n",
        "    d=n%10\n",
        "    rev=rev*10+d\n",
        "    n=n//10\n",
        "if(t==rev):\n",
        "    print(\"The number is a palindrome\")\n",
        "else:\n",
        "    print(\"The number isn't a palindrome\")"
      ],
      "metadata": {
        "colab": {
          "base_uri": "https://localhost:8080/"
        },
        "id": "u0zU34MiPsYn",
        "outputId": "bb13415f-6106-47c9-8200-dcefd0c04dfd"
      },
      "execution_count": null,
      "outputs": [
        {
          "output_type": "stream",
          "name": "stdout",
          "text": [
            "Enter number:6776\n",
            "The number is a palindrome\n"
          ]
        }
      ]
    },
    {
      "cell_type": "markdown",
      "source": [
        "Python Program to print the number of occurrence of a sub string in a given string."
      ],
      "metadata": {
        "id": "cD_HJLGSQJF3"
      }
    },
    {
      "cell_type": "code",
      "source": [
        "str1 = input('Enter a string: ')\n",
        "str2 = input('Enter a sub string: ')\n",
        "count = str1.count(str2)\n",
        "print(count)"
      ],
      "metadata": {
        "colab": {
          "base_uri": "https://localhost:8080/"
        },
        "id": "NjKhUmOgQQ3b",
        "outputId": "03cc1390-42e5-44a0-b238-8fd953d320c4"
      },
      "execution_count": null,
      "outputs": [
        {
          "output_type": "stream",
          "name": "stdout",
          "text": [
            "Enter a string: abccaandg\n",
            "Enter a sub string: abc\n",
            "1\n"
          ]
        }
      ]
    },
    {
      "cell_type": "markdown",
      "source": [
        "Python program to print the lowest index in the string where substring sub is found within the string."
      ],
      "metadata": {
        "id": "x475kqwySHgH"
      }
    },
    {
      "cell_type": "code",
      "source": [
        "def find_index(s1, s2):\n",
        "    index = s1.find(s2)\n",
        "    return index\n",
        "s1 = input(\"Enter the main string: \")\n",
        "s2= input(\"Enter the substring: \")\n",
        "\n",
        "# Find the lowest index of the substring\n",
        "index = find_index(s1, s2)\n",
        "\n",
        "if index != -1:\n",
        "    print(f\"The substring '{s2}' is found at index {index} in the main string.\")\n",
        "else:\n",
        "    print(\"The substring not found\")\n"
      ],
      "metadata": {
        "colab": {
          "base_uri": "https://localhost:8080/"
        },
        "id": "8OQkSTEzWoaP",
        "outputId": "5d9d77b4-5446-4163-8b88-604c7b3e2721"
      },
      "execution_count": null,
      "outputs": [
        {
          "output_type": "stream",
          "name": "stdout",
          "text": [
            "Enter the main string: aaabbbvvxxx\n",
            "Enter the substring: aab\n",
            "The substring 'aab' is found at index 1 in the main string.\n"
          ]
        }
      ]
    },
    {
      "cell_type": "markdown",
      "source": [
        "Python Program to return true if all characters in the string are alphabetic and there is at least one other character, False"
      ],
      "metadata": {
        "id": "UOlU73bLYm24"
      }
    },
    {
      "cell_type": "code",
      "source": [
        "s1 = input(\"Enter the main string: \")\n",
        "print(s1.isalpha())\n"
      ],
      "metadata": {
        "colab": {
          "base_uri": "https://localhost:8080/"
        },
        "id": "euyhJEW-YniL",
        "outputId": "065e576e-5e51-413f-ff8e-b2ca671e99de"
      },
      "execution_count": null,
      "outputs": [
        {
          "output_type": "stream",
          "name": "stdout",
          "text": [
            "Enter the main string: 1ETOBGJNN\n",
            "False\n"
          ]
        }
      ]
    },
    {
      "cell_type": "markdown",
      "source": [
        "Python Program to Replace all Occurrences of ‘a’ with $ in a String."
      ],
      "metadata": {
        "id": "5nAaJqeDZTCX"
      }
    },
    {
      "cell_type": "code",
      "source": [
        "s1=input(\"Enter string:\")\n",
        "string=s1.replace('a','$')\n",
        "print(string)"
      ],
      "metadata": {
        "colab": {
          "base_uri": "https://localhost:8080/"
        },
        "id": "dHpXFkhDZgPV",
        "outputId": "cf1bbff2-6889-4f8c-dfaa-4a27f31d0c34"
      },
      "execution_count": null,
      "outputs": [
        {
          "output_type": "stream",
          "name": "stdout",
          "text": [
            "Enter string:aadhkjegaa\n",
            "$$dhkjeg$$\n"
          ]
        }
      ]
    },
    {
      "cell_type": "markdown",
      "source": [
        "Python Program to Count the Number of Vowels in a String\n"
      ],
      "metadata": {
        "id": "_AHwWTVXZ7s1"
      }
    },
    {
      "cell_type": "code",
      "source": [
        "s1=input(\"Enter string:\")\n",
        "v=0\n",
        "for i in s1:\n",
        "      if(i=='a' or i=='e' or i=='i' or i=='o' or i=='u' or i=='A' or i=='E' or i=='I' or i=='O' or i=='U'):\n",
        "            v=v+1\n",
        "print(v)"
      ],
      "metadata": {
        "colab": {
          "base_uri": "https://localhost:8080/"
        },
        "id": "ZQPxonZAaGKn",
        "outputId": "c15b9622-4d71-4595-c595-4554846e9955"
      },
      "execution_count": null,
      "outputs": [
        {
          "output_type": "stream",
          "name": "stdout",
          "text": [
            "Enter string:abcdeiou\n",
            "5\n"
          ]
        }
      ]
    },
    {
      "cell_type": "markdown",
      "source": [
        "Python Program to Take in a String and Replace Every Blank Space with Hyphen."
      ],
      "metadata": {
        "id": "1bspVbYkavat"
      }
    },
    {
      "cell_type": "code",
      "source": [
        "s1=input(\"Enter string:\")\n",
        "string=s1.replace(' ','-')\n",
        "print(string)"
      ],
      "metadata": {
        "colab": {
          "base_uri": "https://localhost:8080/"
        },
        "id": "23YVD_jMbIoD",
        "outputId": "d81b91b8-7d8f-4c0a-c035-a46c78738c4d"
      },
      "execution_count": null,
      "outputs": [
        {
          "output_type": "stream",
          "name": "stdout",
          "text": [
            "Enter string:a c  b u y\n",
            "a-c--b-u-y\n"
          ]
        }
      ]
    },
    {
      "cell_type": "markdown",
      "source": [
        "Python Program to find the length of string without using any built-in functions\n",
        "\n"
      ],
      "metadata": {
        "id": "rAfvw-CabY5l"
      }
    },
    {
      "cell_type": "code",
      "source": [
        "s1=input(\"Enter string:\")\n",
        "c=0\n",
        "for i in s1:\n",
        "      c=c+1\n",
        "print(\"Length of the string is:\")\n",
        "print(c)"
      ],
      "metadata": {
        "colab": {
          "base_uri": "https://localhost:8080/"
        },
        "id": "yvRmXqWpbarC",
        "outputId": "4ff5c48a-6ef1-4335-d14a-418bf831e2a1"
      },
      "execution_count": null,
      "outputs": [
        {
          "output_type": "stream",
          "name": "stdout",
          "text": [
            "Enter string:abcdef\n",
            "Length of the string is:\n",
            "6\n"
          ]
        }
      ]
    },
    {
      "cell_type": "markdown",
      "source": [
        "Python Program to Take in Two Strings and Display the Larger String without Using Built-in Functions."
      ],
      "metadata": {
        "id": "zZO6GJnjcTuc"
      }
    },
    {
      "cell_type": "code",
      "source": [
        "\n",
        "s1=input(\"Enter first string:\")\n",
        "s2=input(\"Enter second string:\")\n",
        "c1=0\n",
        "c2=0\n",
        "for i in s1:\n",
        "      c1=c1+1\n",
        "for j in s2:\n",
        "      c2=c2+1\n",
        "if(c1<c2):\n",
        "      print(\"Larger string is:\")\n",
        "      print(s2)\n",
        "\n",
        "else:\n",
        "      print(\"Larger string is:\")\n",
        "      print(s1)"
      ],
      "metadata": {
        "colab": {
          "base_uri": "https://localhost:8080/"
        },
        "id": "Up3-WVJLc3z-",
        "outputId": "5a34547a-e7a8-4b84-d5c8-9ce595940957"
      },
      "execution_count": null,
      "outputs": [
        {
          "output_type": "stream",
          "name": "stdout",
          "text": [
            "Enter first string:abcdw\n",
            "Enter second string:abc\n",
            "Larger string is:\n",
            "abcdw\n"
          ]
        }
      ]
    },
    {
      "cell_type": "markdown",
      "source": [
        "Python Program to Calculate the Number of Upper Case Letters and Lower Case Letters in a String."
      ],
      "metadata": {
        "id": "M6-j10kceBSn"
      }
    },
    {
      "cell_type": "code",
      "source": [
        "s1=input(\"Enter string:\")\n",
        "c1=0\n",
        "c2=0\n",
        "for i in s1:\n",
        "      if(i.islower()):\n",
        "            c1=c1+1\n",
        "      elif(i.isupper()):\n",
        "            c2=c2+1\n",
        "print(\"The number of lowercase characters is:\")\n",
        "print(c1)\n",
        "print(\"The number of uppercase characters is:\")\n",
        "print(c2)\n"
      ],
      "metadata": {
        "colab": {
          "base_uri": "https://localhost:8080/"
        },
        "id": "x-givx-ceDRT",
        "outputId": "1de00a7a-42fb-4279-df03-90190a793b1b"
      },
      "execution_count": null,
      "outputs": [
        {
          "output_type": "stream",
          "name": "stdout",
          "text": [
            "Enter string:abcd\n",
            "The number of lowercase characters is:\n",
            "4\n",
            "The number of uppercase characters is:\n",
            "0\n"
          ]
        }
      ]
    },
    {
      "cell_type": "markdown",
      "source": [
        "Cumulative sum of a list [1, 2, 4, …] is defined as [1, 3, 7, . . .] Write a function cumulative_sum() to compute cumulative sum of a list"
      ],
      "metadata": {
        "id": "S54BTTIWekT1"
      }
    },
    {
      "cell_type": "code",
      "source": [
        "a=[]\n",
        "n= int(input(\"Enter the number of elements:\"))\n",
        "for x in range(0,n):\n",
        "    element=int(input(\"Enter element\" + str(x+1) + \":\"))\n",
        "    a.append(element)\n",
        "b=[sum(a[0:x+1]) for x in range(0,len(a))]\n",
        "print(\"The original list is: \",a)\n",
        "print(\"The new list is: \",b)"
      ],
      "metadata": {
        "colab": {
          "base_uri": "https://localhost:8080/"
        },
        "id": "-Gn_Xstamacy",
        "outputId": "09e62488-7112-415f-881c-4ba3bf21178e"
      },
      "execution_count": null,
      "outputs": [
        {
          "output_type": "stream",
          "name": "stdout",
          "text": [
            "Enter the number of elements in list:3\n",
            "Enter element1:1\n",
            "Enter element2:2\n",
            "Enter element3:4\n",
            "The original list is:  [1, 2, 4]\n",
            "The new list is:  [1, 3, 7]\n"
          ]
        }
      ]
    },
    {
      "cell_type": "code",
      "source": [
        "s1=input(\"Enter string:\")\n",
        "c1=0\n",
        "c2=0\n",
        "for i in s1:\n",
        "      if(i.isdigit()):\n",
        "            c1=c1+1\n",
        "            c2=c2+1\n",
        "print(\"The number of digits is:\")\n",
        "print(c1)\n",
        "print(\"The number of characters is:\")\n",
        "print(c2)"
      ],
      "metadata": {
        "colab": {
          "base_uri": "https://localhost:8080/"
        },
        "id": "uMPJK53wfWF_",
        "outputId": "a1daa5e0-c005-4811-d578-0d9d0949bba8"
      },
      "execution_count": null,
      "outputs": [
        {
          "output_type": "stream",
          "name": "stdout",
          "text": [
            "Enter string:123tri\n",
            "The number of digits is:\n",
            "3\n",
            "The number of characters is:\n",
            "3\n"
          ]
        }
      ]
    },
    {
      "cell_type": "markdown",
      "source": [
        "Python Program to check whether a full pattern (not sub string) is present in the given sentence."
      ],
      "metadata": {
        "id": "x6zpNKizfmjF"
      }
    },
    {
      "cell_type": "markdown",
      "source": [
        "Write a program to generate 10 random integers."
      ],
      "metadata": {
        "id": "8fwlq7f5g3HI"
      }
    },
    {
      "cell_type": "code",
      "source": [
        "import random\n",
        "\n",
        "r=[]\n",
        "n=10\n",
        "for i in range(n):\n",
        "\tr.append(random.randint(3,9))\n",
        "print(r)\n"
      ],
      "metadata": {
        "colab": {
          "base_uri": "https://localhost:8080/"
        },
        "id": "aoNbs_Wcg3wS",
        "outputId": "81c348f7-8c68-4bc7-f5bb-9d82962e542a"
      },
      "execution_count": null,
      "outputs": [
        {
          "output_type": "stream",
          "name": "stdout",
          "text": [
            "[9, 4, 3, 5, 3, 6, 4, 6, 9, 5]\n"
          ]
        }
      ]
    },
    {
      "cell_type": "markdown",
      "source": [
        "Write a program to generate 10 random integers between 1 to 20 (both inclusive)."
      ],
      "metadata": {
        "id": "k4hlZ77qibno"
      }
    },
    {
      "cell_type": "code",
      "source": [
        "import random\n",
        "c=[]\n",
        "n=int(input(\"Enter number of elements:\"))\n",
        "for j in range(n):\n",
        "    c.append(random.randint(1,20))\n",
        "print('random numbers generated : ',c)"
      ],
      "metadata": {
        "colab": {
          "base_uri": "https://localhost:8080/"
        },
        "id": "l5nLJAYKicHY",
        "outputId": "dc4cf3e3-05e4-4ba4-a2e7-cc6a38224328"
      },
      "execution_count": null,
      "outputs": [
        {
          "output_type": "stream",
          "name": "stdout",
          "text": [
            "Enter number of elements:10\n",
            "random numbers generated :  [12, 20, 2, 2, 17, 12, 10, 8, 4, 18]\n"
          ]
        }
      ]
    },
    {
      "cell_type": "markdown",
      "source": [
        "Write a program to generate 5 random integers between 1 to 20 such that numbers should be unique.\n"
      ],
      "metadata": {
        "id": "Lhl_isPJjZAp"
      }
    },
    {
      "cell_type": "code",
      "source": [
        "import random\n",
        "random.sample(range(1, 20), 5)"
      ],
      "metadata": {
        "colab": {
          "base_uri": "https://localhost:8080/"
        },
        "id": "sw06h0dLjZiC",
        "outputId": "b6020da5-ed04-49c0-ce3d-1319a1ca178d"
      },
      "execution_count": null,
      "outputs": [
        {
          "output_type": "execute_result",
          "data": {
            "text/plain": [
              "[19, 16, 6, 7, 5]"
            ]
          },
          "metadata": {},
          "execution_count": 56
        }
      ]
    },
    {
      "cell_type": "markdown",
      "source": [
        "Write a program to generate 10 random numbers between 1 to 100 such that there should one number between 1 to 10 one number between 11 to 20 etc.\n"
      ],
      "metadata": {
        "id": "FnvgG1ZTkKZ8"
      }
    },
    {
      "cell_type": "code",
      "source": [
        "import random\n",
        "random.sample(range(1, 100), 10)"
      ],
      "metadata": {
        "colab": {
          "base_uri": "https://localhost:8080/"
        },
        "id": "v80Bsk5_kS3C",
        "outputId": "e6d327c0-c9fc-48a2-9a40-d62acbc2adb3"
      },
      "execution_count": null,
      "outputs": [
        {
          "output_type": "execute_result",
          "data": {
            "text/plain": [
              "[10, 39, 74, 4, 19, 29, 44, 37, 95, 25]"
            ]
          },
          "metadata": {},
          "execution_count": 57
        }
      ]
    }
  ]
}