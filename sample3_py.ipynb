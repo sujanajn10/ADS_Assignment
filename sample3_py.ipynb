{
  "nbformat": 4,
  "nbformat_minor": 0,
  "metadata": {
    "colab": {
      "provenance": []
    },
    "kernelspec": {
      "name": "python3",
      "display_name": "Python 3"
    },
    "language_info": {
      "name": "python"
    }
  },
  "cells": [
    {
      "cell_type": "markdown",
      "source": [
        "Write a program cat.py that takes a filename as command-line argument and prints all the contents of that file."
      ],
      "metadata": {
        "id": "CaMU5TlYu-y2"
      }
    },
    {
      "cell_type": "code",
      "source": [
        "f = open('HELLO.txt', 'r')\n",
        "content = f.read()\n",
        "print(content)\n",
        "f.close()"
      ],
      "metadata": {
        "colab": {
          "base_uri": "https://localhost:8080/"
        },
        "id": "h4Wj3wuRxJpr",
        "outputId": "59f0842a-79b0-42ee-880f-a00ba0904507"
      },
      "execution_count": null,
      "outputs": [
        {
          "output_type": "stream",
          "name": "stdout",
          "text": [
            "start -dfs.sh && start-yarn.sh #to start hdfs\n",
            "\n",
            "jps\n",
            "\n",
            "hdfs dfs -mkdir/user/test_dir #to create directry\n",
            "\n",
            "hdfs dfs -ls /user/ #list the directry\n",
            "\n",
            "gedit file.txt  #to create a file\n",
            "\n",
            "hdfs dfs -put file.txt /user/test_dir #transfer the file to dir\n",
            "\n",
            "hdfs dfs-put file1.txt file2.txt /user/test_dir\n",
            "\n",
            "hdfs dfs -cat /user/test_dir/filename.txt #view the contents\n",
            "\n",
            "hdfs dfs -get user/test_dir/flename.txt home/sois/Desktop\n"
          ]
        }
      ]
    },
    {
      "cell_type": "markdown",
      "source": [
        "Write a program wc.py that takes filename as argument and counts number of lines, words and chars in file"
      ],
      "metadata": {
        "id": "qCGmevdfxmog"
      }
    },
    {
      "cell_type": "code",
      "source": [
        "from os import system\n",
        "system(\"HELLO.txt\")\n"
      ],
      "metadata": {
        "colab": {
          "base_uri": "https://localhost:8080/"
        },
        "id": "ust8oscIxwdr",
        "outputId": "ca5755a8-e43a-4ef5-a6c1-0d6f3e184d00"
      },
      "execution_count": null,
      "outputs": [
        {
          "output_type": "execute_result",
          "data": {
            "text/plain": [
              "32512"
            ]
          },
          "metadata": {},
          "execution_count": 9
        }
      ]
    },
    {
      "cell_type": "markdown",
      "source": [
        "Write a program wc.py that takes filename as argument and counts number of lines, words and chars in file"
      ],
      "metadata": {
        "id": "LxamNBoK01K_"
      }
    },
    {
      "cell_type": "code",
      "source": [
        "def analyze_text_file(file_path):\n",
        "    try:\n",
        "        with open(file_path, 'r') as file:\n",
        "            content = file.read()\n",
        "\n",
        "            char_count = len(content)\n",
        "            word_count = len(content.split())\n",
        "            line_count = content.count('\\n')\n",
        "\n",
        "            print(\"File analysis summary:\")\n",
        "            print(\"Character count:\", char_count)\n",
        "            print(\"Word count:\", word_count)\n",
        "            print(\"Line count:\", line_count)\n",
        "\n",
        "    except FileNotFoundError:\n",
        "        print(\"File not found!\")\n",
        "\n",
        "\n",
        "file_path = \"HELLO.txt\"\n",
        "analyze_text_file(file_path)"
      ],
      "metadata": {
        "colab": {
          "base_uri": "https://localhost:8080/"
        },
        "id": "hFjW65eAz858",
        "outputId": "28322a36-8238-481b-c454-ad9ce4fe781d"
      },
      "execution_count": null,
      "outputs": [
        {
          "output_type": "stream",
          "name": "stdout",
          "text": [
            "File analysis summary:\n",
            "Character count: 411\n",
            "Word count: 54\n",
            "Space count: 46\n",
            "Line count: 16\n"
          ]
        }
      ]
    },
    {
      "cell_type": "markdown",
      "source": [
        "Write a program head.py that takes a filename as command-line argument and prints the first 5 lines of it"
      ],
      "metadata": {
        "id": "Q1heJUGA06z7"
      }
    },
    {
      "cell_type": "code",
      "source": [
        "file = open('HELLO.txt', 'r')\n",
        "\n",
        "lines = [next(file) for x in range(5)]\n",
        "print(lines)\n",
        "\n",
        "file.close()"
      ],
      "metadata": {
        "colab": {
          "base_uri": "https://localhost:8080/"
        },
        "id": "W9wrPEJE5M1z",
        "outputId": "660b591f-131b-47c2-ed06-cf1b7bf2bb03"
      },
      "execution_count": null,
      "outputs": [
        {
          "output_type": "stream",
          "name": "stdout",
          "text": [
            "['start -dfs.sh && start-yarn.sh #to start hdfs\\n', '\\n', 'jps\\n', '\\n', 'hdfs dfs -mkdir/user/test_dir #to create directry\\n']\n"
          ]
        }
      ]
    },
    {
      "cell_type": "markdown",
      "source": [
        "Write a program sumfile.py that takes a filename as argument and prints sum of all numbers in that file. It is assumed that the file will only have one number in every line."
      ],
      "metadata": {
        "id": "QIqKat9mAynt"
      }
    },
    {
      "cell_type": "code",
      "source": [
        "sum = 0\n",
        "\n",
        "with open('HELLO.txt', 'r') as f:\n",
        "    for line in f:\n",
        "        for char in line:\n",
        "            if char.isdigit():\n",
        "                sum = sum + int(char)\n",
        "\n",
        "print(sum)"
      ],
      "metadata": {
        "colab": {
          "base_uri": "https://localhost:8080/"
        },
        "id": "ItUemNRLA3Iz",
        "outputId": "3366a654-711d-42eb-e1c9-3aa98d0081ce"
      },
      "execution_count": null,
      "outputs": [
        {
          "output_type": "stream",
          "name": "stdout",
          "text": [
            "3\n"
          ]
        }
      ]
    },
    {
      "cell_type": "markdown",
      "source": [],
      "metadata": {
        "id": "2sAH4uU0BHLR"
      }
    },
    {
      "cell_type": "code",
      "source": [
        "\n",
        "inputFile = \"HELLO.txt\"\n",
        "givenString = \".\"\n",
        "print('The following lines contain the string {', givenString, '}:')\n",
        "\n",
        "with open(inputFile, 'r') as filedata:\n",
        " for line in filedata:\n",
        "\n",
        "  if givenString in line:\n",
        "       print(line)\n",
        "\n",
        "filedata.close()"
      ],
      "metadata": {
        "colab": {
          "base_uri": "https://localhost:8080/"
        },
        "id": "iC5YObCVDH8G",
        "outputId": "3f74118f-341d-4312-bb5f-13a2fde4ead7"
      },
      "execution_count": null,
      "outputs": [
        {
          "output_type": "stream",
          "name": "stdout",
          "text": [
            "The following lines contain the string { . }:\n",
            "start -dfs.sh && start-yarn.sh #to start hdfs\n",
            "\n",
            "gedit file.txt  #to create a file\n",
            "\n",
            "hdfs dfs -put file.txt /user/test_dir #transfer the file to dir\n",
            "\n",
            "hdfs dfs-put file1.txt file2.txt /user/test_dir\n",
            "\n",
            "hdfs dfs -cat /user/test_dir/filename.txt #view the contents\n",
            "\n",
            "hdfs dfs -get user/test_dir/flename.txt home/sois/Desktop\n"
          ]
        }
      ]
    },
    {
      "cell_type": "markdown",
      "source": [
        "Write a program copyfile.py to copy one file to another. It should accept two filenames as command-line arguments and copies the first one into the second"
      ],
      "metadata": {
        "id": "Mr8ky83kDuTm"
      }
    },
    {
      "cell_type": "code",
      "source": [
        "with open('HELLO.txt','r') as firstfile, open('new.txt','w') as secondfile:\n",
        "\n",
        "\tfor line in firstfile:\n",
        "\n",
        "\t\t\tsecondfile.write(line)\n",
        "\n"
      ],
      "metadata": {
        "id": "r01JtgnUEYpi"
      },
      "execution_count": null,
      "outputs": []
    },
    {
      "cell_type": "markdown",
      "source": [
        "Write a program ls.py that takes path to a directory as command-line argument and prints all the files in that directory. When no argument is specified, it should list the files in the current directory."
      ],
      "metadata": {
        "id": "4JKLuC8gG96x"
      }
    },
    {
      "cell_type": "code",
      "source": [
        "import os\n",
        "a = os.listdir('.')\n",
        "print(a)"
      ],
      "metadata": {
        "colab": {
          "base_uri": "https://localhost:8080/"
        },
        "id": "wTiCvKR6G-rV",
        "outputId": "2198758f-6abd-4fca-c63f-b198c2dd93e2"
      },
      "execution_count": null,
      "outputs": [
        {
          "output_type": "stream",
          "name": "stdout",
          "text": [
            "['.config', 'HELLO,txt', '.new.txt', 'new.txt', 'ABD LAB 2.txt', 'HELLO.txt', 'sample_data']\n"
          ]
        }
      ]
    },
    {
      "cell_type": "markdown",
      "source": [
        "Write a program largest-file.py to find the largest file in the given directory. The program should accept the directory name as command-line argument and print path to the file (not just filename)."
      ],
      "metadata": {
        "id": "Jxfi4yVMKLOi"
      }
    },
    {
      "cell_type": "code",
      "source": [
        "import os\n",
        "\n",
        "files = os.listdir(\".\")\n",
        "\n",
        "largest_file_size = -1  # Initialize to a very small value\n",
        "largest_file = \"\"\n",
        "\n",
        "for file in files:\n",
        "    if os.path.isfile(file):\n",
        "        size = os.path.getsize(file)\n",
        "        if size > largest_file_size:\n",
        "            largest_file_size = size\n",
        "            largest_file = file\n",
        "\n",
        "if largest_file:\n",
        "    print(\"The largest file in the current directory has filename \" + largest_file + \" and size: \" + str(largest_file_size) + \" bytes.\")\n",
        "else:\n",
        "    print(\"No files found in the current directory.\")\n"
      ],
      "metadata": {
        "colab": {
          "base_uri": "https://localhost:8080/"
        },
        "id": "dTx4hN_gLlTY",
        "outputId": "fa0acbc4-b3b2-4c4c-8f64-66d059033aea"
      },
      "execution_count": null,
      "outputs": [
        {
          "output_type": "stream",
          "name": "stdout",
          "text": [
            "The largest file in the current directory has filename ABD LAB 2.txt and size: 427 bytes.\n"
          ]
        }
      ]
    },
    {
      "cell_type": "markdown",
      "source": [
        "Write a program most-recent-file.py to find the most recently modified file in the given directory. The program should accept the directory name as command-line argument and print path to the file (not just filename) that is most recently modified file."
      ],
      "metadata": {
        "id": "bO74bGMkMvOf"
      }
    },
    {
      "cell_type": "code",
      "source": [
        "import os\n",
        "\n",
        "max_mtime = 0\n",
        "for dirname, subdirs, files in os.walk(\".\"):\n",
        "    for fname in files:\n",
        "        full_path = os.path.join(dirname, fname)\n",
        "        mtime = os.stat(full_path).st_mtime\n",
        "        if mtime > max_mtime:\n",
        "            max_mtime = mtime\n",
        "            max_dir = dirname\n",
        "            max_file = fname\n",
        "\n",
        "print(max_dir, max_file)\n"
      ],
      "metadata": {
        "colab": {
          "base_uri": "https://localhost:8080/"
        },
        "id": "wW1cLYaeMvf1",
        "outputId": "88e11908-de19-41b8-e274-238372b918d5"
      },
      "execution_count": null,
      "outputs": [
        {
          "output_type": "stream",
          "name": "stdout",
          "text": [
            "./.config gce\n"
          ]
        }
      ]
    },
    {
      "cell_type": "markdown",
      "source": [
        "Write a program files-only.py to find only file and not sub directories. Pass directory name as command line argument"
      ],
      "metadata": {
        "id": "BU3SB0zaM2bo"
      }
    },
    {
      "cell_type": "code",
      "source": [
        "import os\n",
        "from os import listdir\n",
        "from os.path import isfile, join\n",
        "\n",
        "input_folder = 'headfolder/'\n",
        "list_files = []\n",
        "\n",
        "files=[i for i in os.listdir() if os.path.isfile(i)]\n",
        "for filename in files:\n",
        "    joined = os.path.join(input_folder, filename)\n",
        "    list_files.append(joined)\n",
        "\n",
        "print(list_files)"
      ],
      "metadata": {
        "colab": {
          "base_uri": "https://localhost:8080/"
        },
        "id": "ST1LV6v4OT7a",
        "outputId": "69f38a56-d9c3-4d90-d95c-85b5179da030"
      },
      "execution_count": null,
      "outputs": [
        {
          "output_type": "stream",
          "name": "stdout",
          "text": [
            "['headfolder/HELLO,txt', 'headfolder/.new.txt', 'headfolder/new.txt', 'headfolder/ABD LAB 2.txt', 'headfolder/HELLO.txt']\n"
          ]
        }
      ]
    },
    {
      "cell_type": "markdown",
      "source": [
        "Write a function unique to find all the unique elements of a list."
      ],
      "metadata": {
        "id": "Ft7p6wp4OftN"
      }
    },
    {
      "cell_type": "code",
      "source": [
        "def unique_list(l):\n",
        "  x = []\n",
        "  for a in l:\n",
        "    if a not in x:\n",
        "      x.append(a)\n",
        "  return x\n",
        "\n",
        "print(unique_list([1,3,3,3,3,3,4,5]))"
      ],
      "metadata": {
        "colab": {
          "base_uri": "https://localhost:8080/"
        },
        "id": "JTIkZnN2O1Kq",
        "outputId": "4fed4579-a452-48f2-e192-d40408bba5f3"
      },
      "execution_count": null,
      "outputs": [
        {
          "output_type": "stream",
          "name": "stdout",
          "text": [
            "[1, 3, 4, 5]\n"
          ]
        }
      ]
    },
    {
      "cell_type": "markdown",
      "source": [
        "Write a function dups to find all duplicates in the list."
      ],
      "metadata": {
        "id": "gzPkFF2fQSJB"
      }
    },
    {
      "cell_type": "code",
      "source": [
        "def dup(li):\n",
        "    n=len(li)\n",
        "    dup=[]\n",
        "    for i in range(n):\n",
        "        k = i + 1\n",
        "        for j in range(k,n):\n",
        "            if li[i] == li[j] and li[i] not in dup:\n",
        "                dup.append(li[i])\n",
        "    return dup\n",
        "\n",
        "#test\n",
        "li=[ 10, 20, 40, 10, 20, 10, 80, 10, -0, 30]\n",
        "print(\"Duplicated elemets: \",dup(li))"
      ],
      "metadata": {
        "colab": {
          "base_uri": "https://localhost:8080/"
        },
        "id": "O9mx3VRHO-KG",
        "outputId": "ffba4a4e-8e3b-4dc6-e899-583e69f5a249"
      },
      "execution_count": null,
      "outputs": [
        {
          "output_type": "stream",
          "name": "stdout",
          "text": [
            "Duplicated elemets:  [10, 20]\n"
          ]
        }
      ]
    },
    {
      "cell_type": "markdown",
      "source": [
        "Write a function group(list, size) that take a list and splits into smaller lists of given size."
      ],
      "metadata": {
        "id": "CNdEcl-rQWnR"
      }
    },
    {
      "cell_type": "code",
      "source": [
        "def group(x, l):\n",
        "    gl = []\n",
        "    g = []\n",
        "    i = 0\n",
        "    while i < len(x):\n",
        "        if len(gl) < l:\n",
        "            gl.append(x[i])\n",
        "            i = i + 1\n",
        "        else:\n",
        "            g.append(gl.copy())  # Use .copy() to create a new list\n",
        "            gl.clear()  # Clear the temporary list\n",
        "    g.append(gl.copy())  # Append the remaining elements if any\n",
        "    return g\n",
        "\n",
        "result = group([1, 3, 2, 2, 9, 7, 2, 4], 3)\n",
        "print(result)\n"
      ],
      "metadata": {
        "colab": {
          "base_uri": "https://localhost:8080/"
        },
        "id": "EHhv6SMbQ2ZM",
        "outputId": "c47e329a-2d4f-492d-cecf-65920533b466"
      },
      "execution_count": null,
      "outputs": [
        {
          "output_type": "stream",
          "name": "stdout",
          "text": [
            "[[1, 3, 2], [2, 9, 7], [2, 4]]\n"
          ]
        }
      ]
    }
  ]
}